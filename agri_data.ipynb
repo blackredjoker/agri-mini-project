{
 "cells": [
  {
   "cell_type": "code",
   "execution_count": 20,
   "id": "0e215cfb-eaf2-4078-938a-04dff45911b0",
   "metadata": {},
   "outputs": [],
   "source": [
    "import numpy as np\n",
    "import pandas as pd\n",
    "import sklearn"
   ]
  },
  {
   "cell_type": "code",
   "execution_count": 21,
   "id": "1b175957-948e-43fb-b54c-b886c38fdf5d",
   "metadata": {},
   "outputs": [],
   "source": [
    "data=pd.read_csv('IndiaAgricultureCropProduction2.csv')"
   ]
  },
  {
   "cell_type": "code",
   "execution_count": 22,
   "id": "8e847567-b2c7-4baf-abaf-6ae5838e4277",
   "metadata": {},
   "outputs": [
    {
     "data": {
      "text/html": [
       "<div>\n",
       "<style scoped>\n",
       "    .dataframe tbody tr th:only-of-type {\n",
       "        vertical-align: middle;\n",
       "    }\n",
       "\n",
       "    .dataframe tbody tr th {\n",
       "        vertical-align: top;\n",
       "    }\n",
       "\n",
       "    .dataframe thead th {\n",
       "        text-align: right;\n",
       "    }\n",
       "</style>\n",
       "<table border=\"1\" class=\"dataframe\">\n",
       "  <thead>\n",
       "    <tr style=\"text-align: right;\">\n",
       "      <th></th>\n",
       "      <th>State</th>\n",
       "      <th>District</th>\n",
       "      <th>Crop</th>\n",
       "      <th>Year</th>\n",
       "      <th>Season</th>\n",
       "      <th>Area</th>\n",
       "      <th>Area Units</th>\n",
       "      <th>Production</th>\n",
       "      <th>Production Units</th>\n",
       "      <th>Yield</th>\n",
       "    </tr>\n",
       "  </thead>\n",
       "  <tbody>\n",
       "    <tr>\n",
       "      <th>0</th>\n",
       "      <td>Andaman and Nicobar Islands</td>\n",
       "      <td>NICOBARS</td>\n",
       "      <td>Arecanut</td>\n",
       "      <td>2001-02</td>\n",
       "      <td>Kharif</td>\n",
       "      <td>1254.0</td>\n",
       "      <td>Hectare</td>\n",
       "      <td>2061.0</td>\n",
       "      <td>Tonnes</td>\n",
       "      <td>1.643541</td>\n",
       "    </tr>\n",
       "    <tr>\n",
       "      <th>1</th>\n",
       "      <td>Andaman and Nicobar Islands</td>\n",
       "      <td>NICOBARS</td>\n",
       "      <td>Arecanut</td>\n",
       "      <td>2002-03</td>\n",
       "      <td>Whole Year</td>\n",
       "      <td>1258.0</td>\n",
       "      <td>Hectare</td>\n",
       "      <td>2083.0</td>\n",
       "      <td>Tonnes</td>\n",
       "      <td>1.655803</td>\n",
       "    </tr>\n",
       "    <tr>\n",
       "      <th>2</th>\n",
       "      <td>Andaman and Nicobar Islands</td>\n",
       "      <td>NICOBARS</td>\n",
       "      <td>Arecanut</td>\n",
       "      <td>2003-04</td>\n",
       "      <td>Whole Year</td>\n",
       "      <td>1261.0</td>\n",
       "      <td>Hectare</td>\n",
       "      <td>1525.0</td>\n",
       "      <td>Tonnes</td>\n",
       "      <td>1.209358</td>\n",
       "    </tr>\n",
       "    <tr>\n",
       "      <th>3</th>\n",
       "      <td>Andaman and Nicobar Islands</td>\n",
       "      <td>NORTH AND MIDDLE ANDAMAN</td>\n",
       "      <td>Arecanut</td>\n",
       "      <td>2001-02</td>\n",
       "      <td>Kharif</td>\n",
       "      <td>3100.0</td>\n",
       "      <td>Hectare</td>\n",
       "      <td>5239.0</td>\n",
       "      <td>Tonnes</td>\n",
       "      <td>1.690000</td>\n",
       "    </tr>\n",
       "    <tr>\n",
       "      <th>4</th>\n",
       "      <td>Andaman and Nicobar Islands</td>\n",
       "      <td>SOUTH ANDAMANS</td>\n",
       "      <td>Arecanut</td>\n",
       "      <td>2002-03</td>\n",
       "      <td>Whole Year</td>\n",
       "      <td>3105.0</td>\n",
       "      <td>Hectare</td>\n",
       "      <td>5267.0</td>\n",
       "      <td>Tonnes</td>\n",
       "      <td>1.696296</td>\n",
       "    </tr>\n",
       "    <tr>\n",
       "      <th>...</th>\n",
       "      <td>...</td>\n",
       "      <td>...</td>\n",
       "      <td>...</td>\n",
       "      <td>...</td>\n",
       "      <td>...</td>\n",
       "      <td>...</td>\n",
       "      <td>...</td>\n",
       "      <td>...</td>\n",
       "      <td>...</td>\n",
       "      <td>...</td>\n",
       "    </tr>\n",
       "    <tr>\n",
       "      <th>675503</th>\n",
       "      <td>West Bengal</td>\n",
       "      <td>PURBA BARDHAMAN</td>\n",
       "      <td>Wheat</td>\n",
       "      <td>2000-01</td>\n",
       "      <td>Rabi</td>\n",
       "      <td>6310.0</td>\n",
       "      <td>Hectare</td>\n",
       "      <td>15280.0</td>\n",
       "      <td>Tonnes</td>\n",
       "      <td>2.421553</td>\n",
       "    </tr>\n",
       "    <tr>\n",
       "      <th>675504</th>\n",
       "      <td>West Bengal</td>\n",
       "      <td>PURULIA</td>\n",
       "      <td>Wheat</td>\n",
       "      <td>1997-98</td>\n",
       "      <td>Rabi</td>\n",
       "      <td>1895.0</td>\n",
       "      <td>Hectare</td>\n",
       "      <td>2760.0</td>\n",
       "      <td>Tonnes</td>\n",
       "      <td>1.456464</td>\n",
       "    </tr>\n",
       "    <tr>\n",
       "      <th>675505</th>\n",
       "      <td>West Bengal</td>\n",
       "      <td>PURULIA</td>\n",
       "      <td>Wheat</td>\n",
       "      <td>1998-99</td>\n",
       "      <td>Rabi</td>\n",
       "      <td>3736.0</td>\n",
       "      <td>Hectare</td>\n",
       "      <td>5530.0</td>\n",
       "      <td>Tonnes</td>\n",
       "      <td>1.480193</td>\n",
       "    </tr>\n",
       "    <tr>\n",
       "      <th>675506</th>\n",
       "      <td>West Bengal</td>\n",
       "      <td>PURULIA</td>\n",
       "      <td>Wheat</td>\n",
       "      <td>1999-00</td>\n",
       "      <td>Rabi</td>\n",
       "      <td>2752.0</td>\n",
       "      <td>Hectare</td>\n",
       "      <td>6928.0</td>\n",
       "      <td>Tonnes</td>\n",
       "      <td>2.517442</td>\n",
       "    </tr>\n",
       "    <tr>\n",
       "      <th>675507</th>\n",
       "      <td>West Bengal</td>\n",
       "      <td>PURULIA</td>\n",
       "      <td>Wheat</td>\n",
       "      <td>2000-01</td>\n",
       "      <td>Rabi</td>\n",
       "      <td>2979.0</td>\n",
       "      <td>Hectare</td>\n",
       "      <td>7430.0</td>\n",
       "      <td>Tonnes</td>\n",
       "      <td>2.494126</td>\n",
       "    </tr>\n",
       "  </tbody>\n",
       "</table>\n",
       "<p>675508 rows × 10 columns</p>\n",
       "</div>"
      ],
      "text/plain": [
       "                              State                  District      Crop  \\\n",
       "0       Andaman and Nicobar Islands                  NICOBARS  Arecanut   \n",
       "1       Andaman and Nicobar Islands                  NICOBARS  Arecanut   \n",
       "2       Andaman and Nicobar Islands                  NICOBARS  Arecanut   \n",
       "3       Andaman and Nicobar Islands  NORTH AND MIDDLE ANDAMAN  Arecanut   \n",
       "4       Andaman and Nicobar Islands            SOUTH ANDAMANS  Arecanut   \n",
       "...                             ...                       ...       ...   \n",
       "675503                  West Bengal           PURBA BARDHAMAN     Wheat   \n",
       "675504                  West Bengal                   PURULIA     Wheat   \n",
       "675505                  West Bengal                   PURULIA     Wheat   \n",
       "675506                  West Bengal                   PURULIA     Wheat   \n",
       "675507                  West Bengal                   PURULIA     Wheat   \n",
       "\n",
       "           Year      Season    Area Area Units  Production Production Units  \\\n",
       "0       2001-02      Kharif  1254.0    Hectare      2061.0           Tonnes   \n",
       "1       2002-03  Whole Year  1258.0    Hectare      2083.0           Tonnes   \n",
       "2       2003-04  Whole Year  1261.0    Hectare      1525.0           Tonnes   \n",
       "3       2001-02      Kharif  3100.0    Hectare      5239.0           Tonnes   \n",
       "4       2002-03  Whole Year  3105.0    Hectare      5267.0           Tonnes   \n",
       "...         ...         ...     ...        ...         ...              ...   \n",
       "675503  2000-01        Rabi  6310.0    Hectare     15280.0           Tonnes   \n",
       "675504  1997-98        Rabi  1895.0    Hectare      2760.0           Tonnes   \n",
       "675505  1998-99        Rabi  3736.0    Hectare      5530.0           Tonnes   \n",
       "675506  1999-00        Rabi  2752.0    Hectare      6928.0           Tonnes   \n",
       "675507  2000-01        Rabi  2979.0    Hectare      7430.0           Tonnes   \n",
       "\n",
       "           Yield  \n",
       "0       1.643541  \n",
       "1       1.655803  \n",
       "2       1.209358  \n",
       "3       1.690000  \n",
       "4       1.696296  \n",
       "...          ...  \n",
       "675503  2.421553  \n",
       "675504  1.456464  \n",
       "675505  1.480193  \n",
       "675506  2.517442  \n",
       "675507  2.494126  \n",
       "\n",
       "[675508 rows x 10 columns]"
      ]
     },
     "execution_count": 22,
     "metadata": {},
     "output_type": "execute_result"
    }
   ],
   "source": [
    "data"
   ]
  },
  {
   "cell_type": "code",
   "execution_count": 23,
   "id": "4e326eaf-4708-4591-99ff-6fdd6736a2fe",
   "metadata": {},
   "outputs": [
    {
     "data": {
      "text/plain": [
       "array(['Tonnes', 'Nuts', 'Bales', nan], dtype=object)"
      ]
     },
     "execution_count": 23,
     "metadata": {},
     "output_type": "execute_result"
    }
   ],
   "source": [
    "data['Production Units'].unique()"
   ]
  },
  {
   "cell_type": "code",
   "execution_count": 24,
   "id": "73bf9c92-6c44-43be-81dc-6c795bfa4727",
   "metadata": {
    "tags": []
   },
   "outputs": [
    {
     "data": {
      "text/plain": [
       "array(['Hectare', nan], dtype=object)"
      ]
     },
     "execution_count": 24,
     "metadata": {},
     "output_type": "execute_result"
    }
   ],
   "source": [
    "data['Area Units'].unique()"
   ]
  },
  {
   "cell_type": "code",
   "execution_count": 25,
   "id": "86862574-d105-45ed-95a9-10d2e332dc56",
   "metadata": {},
   "outputs": [],
   "source": [
    "data.drop('Area Units',axis=1,inplace=True)\n",
    "data.drop('Year',axis=1,inplace=True)\n",
    "data.drop('State',axis=1,inplace=True)\n",
    "data.drop('District',axis=1,inplace=True)\n",
    "data.drop('Season',axis=1,inplace=True)\n",
    "\n",
    "\n"
   ]
  },
  {
   "cell_type": "code",
   "execution_count": 26,
   "id": "5e1012af-91c8-462c-94ae-f567a05e80c4",
   "metadata": {},
   "outputs": [
    {
     "data": {
      "text/plain": [
       "Crop                True\n",
       "Area                True\n",
       "Production          True\n",
       "Production Units    True\n",
       "Yield               True\n",
       "dtype: bool"
      ]
     },
     "execution_count": 26,
     "metadata": {},
     "output_type": "execute_result"
    }
   ],
   "source": [
    "data.isnull().any()"
   ]
  },
  {
   "cell_type": "code",
   "execution_count": 27,
   "id": "1b19565a-8431-4150-a8a6-fa9610bb7950",
   "metadata": {},
   "outputs": [
    {
     "data": {
      "text/plain": [
       "50"
      ]
     },
     "execution_count": 27,
     "metadata": {},
     "output_type": "execute_result"
    }
   ],
   "source": [
    "data['Crop'].isnull().sum()"
   ]
  },
  {
   "cell_type": "code",
   "execution_count": 28,
   "id": "68ea44bd-e0ba-4036-bb08-50c5ab0b6374",
   "metadata": {},
   "outputs": [],
   "source": [
    "data.dropna(inplace=True)"
   ]
  },
  {
   "cell_type": "markdown",
   "id": "96afecf0-2dc1-4577-8e2b-7a49c1b0cb7e",
   "metadata": {},
   "source": [
    "lost ~ 1.6% data due to dropping na values"
   ]
  },
  {
   "cell_type": "code",
   "execution_count": 29,
   "id": "987a4cea-610d-4506-9fd6-849b0c2d3b18",
   "metadata": {},
   "outputs": [
    {
     "data": {
      "text/plain": [
       "Crop                False\n",
       "Area                False\n",
       "Production          False\n",
       "Production Units    False\n",
       "Yield               False\n",
       "dtype: bool"
      ]
     },
     "execution_count": 29,
     "metadata": {},
     "output_type": "execute_result"
    }
   ],
   "source": [
    "data.isnull().any()"
   ]
  },
  {
   "cell_type": "code",
   "execution_count": 30,
   "id": "135cc4a3-913b-4301-a195-d54a6215bf3d",
   "metadata": {},
   "outputs": [
    {
     "data": {
      "text/plain": [
       "Index(['Crop', 'Area', 'Production', 'Production Units', 'Yield'], dtype='object')"
      ]
     },
     "execution_count": 30,
     "metadata": {},
     "output_type": "execute_result"
    }
   ],
   "source": [
    "data.columns"
   ]
  },
  {
   "cell_type": "code",
   "execution_count": 31,
   "id": "3073d795-d761-4d50-84a7-3264468bee61",
   "metadata": {},
   "outputs": [
    {
     "data": {
      "text/html": [
       "<div>\n",
       "<style scoped>\n",
       "    .dataframe tbody tr th:only-of-type {\n",
       "        vertical-align: middle;\n",
       "    }\n",
       "\n",
       "    .dataframe tbody tr th {\n",
       "        vertical-align: top;\n",
       "    }\n",
       "\n",
       "    .dataframe thead th {\n",
       "        text-align: right;\n",
       "    }\n",
       "</style>\n",
       "<table border=\"1\" class=\"dataframe\">\n",
       "  <thead>\n",
       "    <tr style=\"text-align: right;\">\n",
       "      <th></th>\n",
       "      <th>Crop</th>\n",
       "      <th>Area</th>\n",
       "      <th>Production</th>\n",
       "      <th>Production Units</th>\n",
       "      <th>Yield</th>\n",
       "    </tr>\n",
       "  </thead>\n",
       "  <tbody>\n",
       "    <tr>\n",
       "      <th>0</th>\n",
       "      <td>Arecanut</td>\n",
       "      <td>1254.0</td>\n",
       "      <td>2061.0</td>\n",
       "      <td>Tonnes</td>\n",
       "      <td>1.643541</td>\n",
       "    </tr>\n",
       "    <tr>\n",
       "      <th>1</th>\n",
       "      <td>Arecanut</td>\n",
       "      <td>1258.0</td>\n",
       "      <td>2083.0</td>\n",
       "      <td>Tonnes</td>\n",
       "      <td>1.655803</td>\n",
       "    </tr>\n",
       "    <tr>\n",
       "      <th>2</th>\n",
       "      <td>Arecanut</td>\n",
       "      <td>1261.0</td>\n",
       "      <td>1525.0</td>\n",
       "      <td>Tonnes</td>\n",
       "      <td>1.209358</td>\n",
       "    </tr>\n",
       "    <tr>\n",
       "      <th>3</th>\n",
       "      <td>Arecanut</td>\n",
       "      <td>3100.0</td>\n",
       "      <td>5239.0</td>\n",
       "      <td>Tonnes</td>\n",
       "      <td>1.690000</td>\n",
       "    </tr>\n",
       "    <tr>\n",
       "      <th>4</th>\n",
       "      <td>Arecanut</td>\n",
       "      <td>3105.0</td>\n",
       "      <td>5267.0</td>\n",
       "      <td>Tonnes</td>\n",
       "      <td>1.696296</td>\n",
       "    </tr>\n",
       "    <tr>\n",
       "      <th>...</th>\n",
       "      <td>...</td>\n",
       "      <td>...</td>\n",
       "      <td>...</td>\n",
       "      <td>...</td>\n",
       "      <td>...</td>\n",
       "    </tr>\n",
       "    <tr>\n",
       "      <th>675503</th>\n",
       "      <td>Wheat</td>\n",
       "      <td>6310.0</td>\n",
       "      <td>15280.0</td>\n",
       "      <td>Tonnes</td>\n",
       "      <td>2.421553</td>\n",
       "    </tr>\n",
       "    <tr>\n",
       "      <th>675504</th>\n",
       "      <td>Wheat</td>\n",
       "      <td>1895.0</td>\n",
       "      <td>2760.0</td>\n",
       "      <td>Tonnes</td>\n",
       "      <td>1.456464</td>\n",
       "    </tr>\n",
       "    <tr>\n",
       "      <th>675505</th>\n",
       "      <td>Wheat</td>\n",
       "      <td>3736.0</td>\n",
       "      <td>5530.0</td>\n",
       "      <td>Tonnes</td>\n",
       "      <td>1.480193</td>\n",
       "    </tr>\n",
       "    <tr>\n",
       "      <th>675506</th>\n",
       "      <td>Wheat</td>\n",
       "      <td>2752.0</td>\n",
       "      <td>6928.0</td>\n",
       "      <td>Tonnes</td>\n",
       "      <td>2.517442</td>\n",
       "    </tr>\n",
       "    <tr>\n",
       "      <th>675507</th>\n",
       "      <td>Wheat</td>\n",
       "      <td>2979.0</td>\n",
       "      <td>7430.0</td>\n",
       "      <td>Tonnes</td>\n",
       "      <td>2.494126</td>\n",
       "    </tr>\n",
       "  </tbody>\n",
       "</table>\n",
       "<p>665684 rows × 5 columns</p>\n",
       "</div>"
      ],
      "text/plain": [
       "            Crop    Area  Production Production Units     Yield\n",
       "0       Arecanut  1254.0      2061.0           Tonnes  1.643541\n",
       "1       Arecanut  1258.0      2083.0           Tonnes  1.655803\n",
       "2       Arecanut  1261.0      1525.0           Tonnes  1.209358\n",
       "3       Arecanut  3100.0      5239.0           Tonnes  1.690000\n",
       "4       Arecanut  3105.0      5267.0           Tonnes  1.696296\n",
       "...          ...     ...         ...              ...       ...\n",
       "675503     Wheat  6310.0     15280.0           Tonnes  2.421553\n",
       "675504     Wheat  1895.0      2760.0           Tonnes  1.456464\n",
       "675505     Wheat  3736.0      5530.0           Tonnes  1.480193\n",
       "675506     Wheat  2752.0      6928.0           Tonnes  2.517442\n",
       "675507     Wheat  2979.0      7430.0           Tonnes  2.494126\n",
       "\n",
       "[665684 rows x 5 columns]"
      ]
     },
     "execution_count": 31,
     "metadata": {},
     "output_type": "execute_result"
    }
   ],
   "source": [
    "data"
   ]
  },
  {
   "cell_type": "code",
   "execution_count": 32,
   "id": "00c05e7a-a1c1-494d-8c60-42df6abb1c5e",
   "metadata": {},
   "outputs": [
    {
     "data": {
      "text/plain": [
       "Crop                 object\n",
       "Area                float64\n",
       "Production          float64\n",
       "Production Units     object\n",
       "Yield               float64\n",
       "dtype: object"
      ]
     },
     "execution_count": 32,
     "metadata": {},
     "output_type": "execute_result"
    }
   ],
   "source": [
    "data.dtypes"
   ]
  },
  {
   "cell_type": "code",
   "execution_count": 33,
   "id": "b650188a-28fa-43b7-b16d-65bc7bf19292",
   "metadata": {},
   "outputs": [],
   "source": [
    "from sklearn.preprocessing import LabelEncoder\n",
    "LE=LabelEncoder()\n",
    "# State=LE.fit_transform(data['State'])\n",
    "# data['State']=State\n",
    "# District=LE.fit_transform(data['District'])\n",
    "# data['District']=District\n",
    "Crop=LE.fit_transform(data['Crop'])\n",
    "data['Crop']=Crop\n",
    "# Season=LE.fit_transform(data['Season'])\n",
    "# data['Season']=Season\n",
    "# Area_Units=LE.fit_transform(data['Area Units'])\n",
    "# data['Area Units']=Area_Units\n",
    "Production_Units=LE.fit_transform(data['Production Units'])\n",
    "data['Production Units']=Production_Units"
   ]
  },
  {
   "cell_type": "code",
   "execution_count": 34,
   "id": "1095c0bf-5fc1-467b-b928-0c8f3df62b52",
   "metadata": {},
   "outputs": [],
   "source": [
    "from sklearn.model_selection import train_test_split\n",
    "x=data.drop('Yield',axis=1)\n",
    "y=round(data['Yield'],2)\n",
    "xtrain,xtest,ytrain,ytest=train_test_split(x,y,random_state=1,train_size=.75)\n"
   ]
  },
  {
   "cell_type": "code",
   "execution_count": 35,
   "id": "5c60e7e1-cc49-4b18-951a-ffbf11f3d491",
   "metadata": {},
   "outputs": [],
   "source": [
    "from sklearn.ensemble import RandomForestClassifier\n",
    "from sklearn.linear_model import LinearRegression, LogisticRegression\n",
    "from sklearn.tree import DecisionTreeClassifier,DecisionTreeRegressor"
   ]
  },
  {
   "cell_type": "code",
   "execution_count": 36,
   "id": "32eb38c9-e788-436e-bfb6-4118ec06eca7",
   "metadata": {},
   "outputs": [],
   "source": [
    "randforestparams={'n_estimators':[10,20,30,40,50]}\n",
    "model_details={   \n",
    "                # 'linear'   :{'model':LinearRegression(),'params':{}},\n",
    "                'rf'       :{'model':RandomForestClassifier(),'params':randforestparams},\n",
    "              'logistics':{'model':LogisticRegression(),'params':{}},\n",
    "                'dtc'      :{'model':DecisionTreeClassifier(),'params':{}},\n",
    "               # 'dtc'      :{'model':DecisionTreeRegressor(),'params':{}},\n",
    "\n",
    "             }"
   ]
  },
  {
   "cell_type": "code",
   "execution_count": 37,
   "id": "a42424a5-4405-41ca-a2d8-c4b23b3e06bb",
   "metadata": {},
   "outputs": [],
   "source": [
    "from sklearn.model_selection import GridSearchCV\n",
    "# from sklearn.model_selection import cross_val_score\n",
    "def get_best(x,y):\n",
    "    result=[]\n",
    "    for model_name in model_details:\n",
    "        model_dict=model_details.get(model_name)\n",
    "        model=model_dict.get('model')\n",
    "        params=model_dict.get('params')\n",
    "        cv=GridSearchCV(model,params,return_train_score=True,cv=5)\n",
    "        cv.fit(x,y)\n",
    "        bp=cv.best_params_\n",
    "        bs=cv.best_score_\n",
    "        test_res={'model':model_name,'best_params':bp,'best_score':bs}\n",
    "        result.append(test_res)\n",
    "    res_df=pd.DataFrame(result)\n",
    "    best_model=res_df[res_df['best_score']==res_df['best_score'].max()]\n",
    "    return res_df,best_model"
   ]
  },
  {
   "cell_type": "code",
   "execution_count": 38,
   "id": "5734788e-6496-4e6a-8804-d95c5c384c71",
   "metadata": {},
   "outputs": [
    {
     "name": "stderr",
     "output_type": "stream",
     "text": [
      "C:\\Users\\ZAYYU\\anaconda3\\lib\\site-packages\\sklearn\\model_selection\\_validation.py:372: FitFailedWarning: \n",
      "25 fits failed out of a total of 25.\n",
      "The score on these train-test partitions for these parameters will be set to nan.\n",
      "If these failures are not expected, you can try to debug them by setting error_score='raise'.\n",
      "\n",
      "Below are more details about the failures:\n",
      "--------------------------------------------------------------------------------\n",
      "25 fits failed with the following error:\n",
      "Traceback (most recent call last):\n",
      "  File \"C:\\Users\\ZAYYU\\anaconda3\\lib\\site-packages\\sklearn\\model_selection\\_validation.py\", line 680, in _fit_and_score\n",
      "    estimator.fit(X_train, y_train, **fit_params)\n",
      "  File \"C:\\Users\\ZAYYU\\anaconda3\\lib\\site-packages\\sklearn\\ensemble\\_forest.py\", line 367, in fit\n",
      "    y, expanded_class_weight = self._validate_y_class_weight(y)\n",
      "  File \"C:\\Users\\ZAYYU\\anaconda3\\lib\\site-packages\\sklearn\\ensemble\\_forest.py\", line 734, in _validate_y_class_weight\n",
      "    check_classification_targets(y)\n",
      "  File \"C:\\Users\\ZAYYU\\anaconda3\\lib\\site-packages\\sklearn\\utils\\multiclass.py\", line 197, in check_classification_targets\n",
      "    raise ValueError(\"Unknown label type: %r\" % y_type)\n",
      "ValueError: Unknown label type: 'continuous'\n",
      "\n",
      "  warnings.warn(some_fits_failed_message, FitFailedWarning)\n",
      "C:\\Users\\ZAYYU\\anaconda3\\lib\\site-packages\\sklearn\\model_selection\\_search.py:969: UserWarning: One or more of the test scores are non-finite: [nan nan nan nan nan]\n",
      "  warnings.warn(\n",
      "C:\\Users\\ZAYYU\\anaconda3\\lib\\site-packages\\sklearn\\model_selection\\_search.py:969: UserWarning: One or more of the train scores are non-finite: [nan nan nan nan nan]\n",
      "  warnings.warn(\n"
     ]
    },
    {
     "ename": "ValueError",
     "evalue": "Unknown label type: 'continuous'",
     "output_type": "error",
     "traceback": [
      "\u001b[1;31m---------------------------------------------------------------------------\u001b[0m",
      "\u001b[1;31mValueError\u001b[0m                                Traceback (most recent call last)",
      "Input \u001b[1;32mIn [38]\u001b[0m, in \u001b[0;36m<cell line: 1>\u001b[1;34m()\u001b[0m\n\u001b[1;32m----> 1\u001b[0m res_df,best_model\u001b[38;5;241m=\u001b[39m\u001b[43mget_best\u001b[49m\u001b[43m(\u001b[49m\u001b[43mx\u001b[49m\u001b[43m,\u001b[49m\u001b[43my\u001b[49m\u001b[43m)\u001b[49m\n",
      "Input \u001b[1;32mIn [37]\u001b[0m, in \u001b[0;36mget_best\u001b[1;34m(x, y)\u001b[0m\n\u001b[0;32m      8\u001b[0m params\u001b[38;5;241m=\u001b[39mmodel_dict\u001b[38;5;241m.\u001b[39mget(\u001b[38;5;124m'\u001b[39m\u001b[38;5;124mparams\u001b[39m\u001b[38;5;124m'\u001b[39m)\n\u001b[0;32m      9\u001b[0m cv\u001b[38;5;241m=\u001b[39mGridSearchCV(model,params,return_train_score\u001b[38;5;241m=\u001b[39m\u001b[38;5;28;01mTrue\u001b[39;00m,cv\u001b[38;5;241m=\u001b[39m\u001b[38;5;241m5\u001b[39m)\n\u001b[1;32m---> 10\u001b[0m \u001b[43mcv\u001b[49m\u001b[38;5;241;43m.\u001b[39;49m\u001b[43mfit\u001b[49m\u001b[43m(\u001b[49m\u001b[43mx\u001b[49m\u001b[43m,\u001b[49m\u001b[43my\u001b[49m\u001b[43m)\u001b[49m\n\u001b[0;32m     11\u001b[0m bp\u001b[38;5;241m=\u001b[39mcv\u001b[38;5;241m.\u001b[39mbest_params_\n\u001b[0;32m     12\u001b[0m bs\u001b[38;5;241m=\u001b[39mcv\u001b[38;5;241m.\u001b[39mbest_score_\n",
      "File \u001b[1;32m~\\anaconda3\\lib\\site-packages\\sklearn\\model_selection\\_search.py:926\u001b[0m, in \u001b[0;36mBaseSearchCV.fit\u001b[1;34m(self, X, y, groups, **fit_params)\u001b[0m\n\u001b[0;32m    924\u001b[0m refit_start_time \u001b[38;5;241m=\u001b[39m time\u001b[38;5;241m.\u001b[39mtime()\n\u001b[0;32m    925\u001b[0m \u001b[38;5;28;01mif\u001b[39;00m y \u001b[38;5;129;01mis\u001b[39;00m \u001b[38;5;129;01mnot\u001b[39;00m \u001b[38;5;28;01mNone\u001b[39;00m:\n\u001b[1;32m--> 926\u001b[0m     \u001b[38;5;28mself\u001b[39m\u001b[38;5;241m.\u001b[39mbest_estimator_\u001b[38;5;241m.\u001b[39mfit(X, y, \u001b[38;5;241m*\u001b[39m\u001b[38;5;241m*\u001b[39mfit_params)\n\u001b[0;32m    927\u001b[0m \u001b[38;5;28;01melse\u001b[39;00m:\n\u001b[0;32m    928\u001b[0m     \u001b[38;5;28mself\u001b[39m\u001b[38;5;241m.\u001b[39mbest_estimator_\u001b[38;5;241m.\u001b[39mfit(X, \u001b[38;5;241m*\u001b[39m\u001b[38;5;241m*\u001b[39mfit_params)\n",
      "File \u001b[1;32m~\\anaconda3\\lib\\site-packages\\sklearn\\ensemble\\_forest.py:367\u001b[0m, in \u001b[0;36mBaseForest.fit\u001b[1;34m(self, X, y, sample_weight)\u001b[0m\n\u001b[0;32m    360\u001b[0m         \u001b[38;5;28;01mraise\u001b[39;00m \u001b[38;5;167;01mValueError\u001b[39;00m(\n\u001b[0;32m    361\u001b[0m             \u001b[38;5;124m\"\u001b[39m\u001b[38;5;124mSum of y is not strictly positive which \u001b[39m\u001b[38;5;124m\"\u001b[39m\n\u001b[0;32m    362\u001b[0m             \u001b[38;5;124m\"\u001b[39m\u001b[38;5;124mis necessary for Poisson regression.\u001b[39m\u001b[38;5;124m\"\u001b[39m\n\u001b[0;32m    363\u001b[0m         )\n\u001b[0;32m    365\u001b[0m \u001b[38;5;28mself\u001b[39m\u001b[38;5;241m.\u001b[39mn_outputs_ \u001b[38;5;241m=\u001b[39m y\u001b[38;5;241m.\u001b[39mshape[\u001b[38;5;241m1\u001b[39m]\n\u001b[1;32m--> 367\u001b[0m y, expanded_class_weight \u001b[38;5;241m=\u001b[39m \u001b[38;5;28;43mself\u001b[39;49m\u001b[38;5;241;43m.\u001b[39;49m\u001b[43m_validate_y_class_weight\u001b[49m\u001b[43m(\u001b[49m\u001b[43my\u001b[49m\u001b[43m)\u001b[49m\n\u001b[0;32m    369\u001b[0m \u001b[38;5;28;01mif\u001b[39;00m \u001b[38;5;28mgetattr\u001b[39m(y, \u001b[38;5;124m\"\u001b[39m\u001b[38;5;124mdtype\u001b[39m\u001b[38;5;124m\"\u001b[39m, \u001b[38;5;28;01mNone\u001b[39;00m) \u001b[38;5;241m!=\u001b[39m DOUBLE \u001b[38;5;129;01mor\u001b[39;00m \u001b[38;5;129;01mnot\u001b[39;00m y\u001b[38;5;241m.\u001b[39mflags\u001b[38;5;241m.\u001b[39mcontiguous:\n\u001b[0;32m    370\u001b[0m     y \u001b[38;5;241m=\u001b[39m np\u001b[38;5;241m.\u001b[39mascontiguousarray(y, dtype\u001b[38;5;241m=\u001b[39mDOUBLE)\n",
      "File \u001b[1;32m~\\anaconda3\\lib\\site-packages\\sklearn\\ensemble\\_forest.py:734\u001b[0m, in \u001b[0;36mForestClassifier._validate_y_class_weight\u001b[1;34m(self, y)\u001b[0m\n\u001b[0;32m    733\u001b[0m \u001b[38;5;28;01mdef\u001b[39;00m \u001b[38;5;21m_validate_y_class_weight\u001b[39m(\u001b[38;5;28mself\u001b[39m, y):\n\u001b[1;32m--> 734\u001b[0m     \u001b[43mcheck_classification_targets\u001b[49m\u001b[43m(\u001b[49m\u001b[43my\u001b[49m\u001b[43m)\u001b[49m\n\u001b[0;32m    736\u001b[0m     y \u001b[38;5;241m=\u001b[39m np\u001b[38;5;241m.\u001b[39mcopy(y)\n\u001b[0;32m    737\u001b[0m     expanded_class_weight \u001b[38;5;241m=\u001b[39m \u001b[38;5;28;01mNone\u001b[39;00m\n",
      "File \u001b[1;32m~\\anaconda3\\lib\\site-packages\\sklearn\\utils\\multiclass.py:197\u001b[0m, in \u001b[0;36mcheck_classification_targets\u001b[1;34m(y)\u001b[0m\n\u001b[0;32m    189\u001b[0m y_type \u001b[38;5;241m=\u001b[39m type_of_target(y)\n\u001b[0;32m    190\u001b[0m \u001b[38;5;28;01mif\u001b[39;00m y_type \u001b[38;5;129;01mnot\u001b[39;00m \u001b[38;5;129;01min\u001b[39;00m [\n\u001b[0;32m    191\u001b[0m     \u001b[38;5;124m\"\u001b[39m\u001b[38;5;124mbinary\u001b[39m\u001b[38;5;124m\"\u001b[39m,\n\u001b[0;32m    192\u001b[0m     \u001b[38;5;124m\"\u001b[39m\u001b[38;5;124mmulticlass\u001b[39m\u001b[38;5;124m\"\u001b[39m,\n\u001b[1;32m   (...)\u001b[0m\n\u001b[0;32m    195\u001b[0m     \u001b[38;5;124m\"\u001b[39m\u001b[38;5;124mmultilabel-sequences\u001b[39m\u001b[38;5;124m\"\u001b[39m,\n\u001b[0;32m    196\u001b[0m ]:\n\u001b[1;32m--> 197\u001b[0m     \u001b[38;5;28;01mraise\u001b[39;00m \u001b[38;5;167;01mValueError\u001b[39;00m(\u001b[38;5;124m\"\u001b[39m\u001b[38;5;124mUnknown label type: \u001b[39m\u001b[38;5;132;01m%r\u001b[39;00m\u001b[38;5;124m\"\u001b[39m \u001b[38;5;241m%\u001b[39m y_type)\n",
      "\u001b[1;31mValueError\u001b[0m: Unknown label type: 'continuous'"
     ]
    }
   ],
   "source": [
    "res_df,best_model=get_best(x,y)"
   ]
  },
  {
   "cell_type": "code",
   "execution_count": null,
   "id": "e4182a1f-d347-429e-b1aa-9e1c6a162fa3",
   "metadata": {},
   "outputs": [],
   "source": [
    "model=RandomForestClassifier()\n",
    "model.fit(xtrain,ytrain)\n",
    "model.score(xtest,ytest)"
   ]
  },
  {
   "cell_type": "code",
   "execution_count": null,
   "id": "c193cea5-e0cf-4d6b-a00c-c59ba778489a",
   "metadata": {},
   "outputs": [],
   "source": []
  }
 ],
 "metadata": {
  "kernelspec": {
   "display_name": "Python 3 (ipykernel)",
   "language": "python",
   "name": "python3"
  },
  "language_info": {
   "codemirror_mode": {
    "name": "ipython",
    "version": 3
   },
   "file_extension": ".py",
   "mimetype": "text/x-python",
   "name": "python",
   "nbconvert_exporter": "python",
   "pygments_lexer": "ipython3",
   "version": "3.9.12"
  }
 },
 "nbformat": 4,
 "nbformat_minor": 5
}
